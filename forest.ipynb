{
 "cells": [
  {
   "cell_type": "code",
   "execution_count": null,
   "id": "b5037fa6-05bc-4ce8-878d-3037ff075cc8",
   "metadata": {},
   "outputs": [],
   "source": [
    "from fastai.vision.all import *\n",
    "from fastai.vision.widgets import *"
   ]
  },
  {
   "cell_type": "code",
   "execution_count": null,
   "id": "bb1e88e5-6def-4ad7-9e92-51069065f6b7",
   "metadata": {},
   "outputs": [],
   "source": [
    "path = Path()\n",
    "learn_inf = load_learner(path/'export_34.pkl', cpu=True)\n",
    "btn_upload = widgets.FileUpload()\n",
    "out_pl = widgets.Output()\n",
    "lbl_pred = widgets.Label()"
   ]
  },
  {
   "cell_type": "code",
   "execution_count": 3,
   "id": "a90348bb-bfb6-4657-9899-d73415a1a809",
   "metadata": {},
   "outputs": [],
   "source": [
    "def on_data_change(change):\n",
    "    lbl_pred.value = ''\n",
    "    img = PILImage.create(btn_upload.data[-1])\n",
    "    out_pl.clear_output()\n",
    "    with out_pl: display(img.to_thumb(256,256))\n",
    "    pred,pred_idx,probs = learn_inf.predict(img)\n",
    "    lbl_pred.value = f'Prediction: {pred}; \\n\\Probability: {probs[pred_idx]:.04f}'"
   ]
  },
  {
   "cell_type": "code",
   "execution_count": null,
   "id": "ab5a19b7-d2e9-4a94-b7f5-15dcc3fd8ada",
   "metadata": {},
   "outputs": [],
   "source": [
    "btn_upload.observe(on_data_change, names=['data'])"
   ]
  },
  {
   "cell_type": "code",
   "execution_count": null,
   "id": "40184aa7-efec-47e1-8ec8-2cd1412a751b",
   "metadata": {},
   "outputs": [],
   "source": [
    "display(HBox([widgets.HTML(\n",
    "    value='This website hosts a deep learning model, developed by a FSC job candidate, which can identify <a href=\"https://web.inf.ufpr.br/vri/databases/forest-species-database-microscopic/\" target=\"_blank\"> 112 different species from the Forest Species Database (FSD).</a>',\n",
    "    placeholder='Some HTML',\n",
    "    description='Some HTML',\n",
    ")]))"
   ]
  },
  {
   "cell_type": "code",
   "execution_count": null,
   "id": "79489a9d-5389-4dfc-90a9-84ef5d6965d0",
   "metadata": {},
   "outputs": [],
   "source": [
    "display(VBox([widgets.Label('Select a microscopic image to receive a predicted species:'), \n",
    "              btn_upload, out_pl, lbl_pred]))"
   ]
  }
 ],
 "metadata": {
  "kernelspec": {
   "display_name": "Python 3 (ipykernel)",
   "language": "python",
   "name": "python3"
  },
  "language_info": {
   "codemirror_mode": {
    "name": "ipython",
    "version": 3
   },
   "file_extension": ".py",
   "mimetype": "text/x-python",
   "name": "python",
   "nbconvert_exporter": "python",
   "pygments_lexer": "ipython3",
   "version": "3.9.7"
  }
 },
 "nbformat": 4,
 "nbformat_minor": 5
}
